{
 "cells": [
  {
   "cell_type": "code",
   "execution_count": 1,
   "metadata": {},
   "outputs": [],
   "source": [
    "import numpy as np"
   ]
  },
  {
   "cell_type": "code",
   "execution_count": 2,
   "metadata": {},
   "outputs": [],
   "source": [
    "#1\n",
    "def matrix_generate(rows, columns, type_ = \"full\", eps = 0):\n",
    "    A = None\n",
    "\n",
    "    if type_ == \"full\":\n",
    "        A = np.random.random(size=(rows, columns))\n",
    "\n",
    "    elif type_ == \"upper_triangular\":\n",
    "        A = np.triu(np.random.random(size=(rows, columns)))\n",
    "\n",
    "    elif type_ == \"lower_triangular\":\n",
    "        A = np.tril(np.random.random(size=(rows, columns)))\n",
    "    \n",
    "    elif type_ == \"symmetric\":\n",
    "        if rows != columns:\n",
    "            return f\"Error with type {type_} and shape ({rows},{columns})\"\n",
    "        else:\n",
    "            A = np.random.random(size=(rows, columns))\n",
    "            A = (A + A.T) / 2\n",
    "\n",
    "    elif type_ == \"diagonal\":\n",
    "        if rows != columns:\n",
    "            return f\"Error with type {type_} and shape ({rows},{columns})\"\n",
    "        else:\n",
    "            A = np.diag(np.random.random(size=rows))\n",
    "\n",
    "    elif type_ == \"perturbation\":\n",
    "        A = np.random.uniform(-eps, eps, size=(rows, columns))\n",
    "        \n",
    "\n",
    "    else:\n",
    "        return f\"Error with type {type_} and shape ({rows},{columns})\"\n",
    "\n",
    "    return A"
   ]
  },
  {
   "cell_type": "code",
   "execution_count": 3,
   "metadata": {},
   "outputs": [
    {
     "data": {
      "text/plain": [
       "array([[0.14743477, 0.51232656, 0.6056124 ]])"
      ]
     },
     "execution_count": 3,
     "metadata": {},
     "output_type": "execute_result"
    }
   ],
   "source": [
    "matrix_generate(1, 3)"
   ]
  },
  {
   "cell_type": "code",
   "execution_count": 4,
   "metadata": {},
   "outputs": [
    {
     "data": {
      "text/plain": [
       "array([[0.66585638, 0.        , 0.        , 0.        ],\n",
       "       [0.        , 0.99177994, 0.        , 0.        ],\n",
       "       [0.        , 0.        , 0.11553599, 0.        ],\n",
       "       [0.        , 0.        , 0.        , 0.06730484]])"
      ]
     },
     "execution_count": 4,
     "metadata": {},
     "output_type": "execute_result"
    }
   ],
   "source": [
    "matrix_generate(4, 4, type_ = \"diagonal\")"
   ]
  },
  {
   "cell_type": "code",
   "execution_count": 5,
   "metadata": {},
   "outputs": [
    {
     "data": {
      "text/plain": [
       "array([[0.36660221, 0.1871357 , 0.05753864, 0.29788929],\n",
       "       [0.        , 0.25963301, 0.44058764, 0.4223806 ],\n",
       "       [0.        , 0.        , 0.68442298, 0.59849211],\n",
       "       [0.        , 0.        , 0.        , 0.42742245]])"
      ]
     },
     "execution_count": 5,
     "metadata": {},
     "output_type": "execute_result"
    }
   ],
   "source": [
    "matrix_generate(4, 4, type_ = \"upper_triangular\")"
   ]
  },
  {
   "cell_type": "code",
   "execution_count": 6,
   "metadata": {},
   "outputs": [
    {
     "data": {
      "text/plain": [
       "array([[0.44963063, 0.        , 0.        , 0.        ],\n",
       "       [0.14410084, 0.16174256, 0.        , 0.        ],\n",
       "       [0.8513568 , 0.72669427, 0.31576201, 0.        ],\n",
       "       [0.04329303, 0.42034317, 0.45802351, 0.68526889]])"
      ]
     },
     "execution_count": 6,
     "metadata": {},
     "output_type": "execute_result"
    }
   ],
   "source": [
    "matrix_generate(4, 4, type_ = \"lower_triangular\")"
   ]
  },
  {
   "cell_type": "code",
   "execution_count": 7,
   "metadata": {},
   "outputs": [
    {
     "data": {
      "text/plain": [
       "array([[0.29762084, 0.47318175, 0.4972501 , 0.53369823],\n",
       "       [0.47318175, 0.93449132, 0.0320516 , 0.38918119],\n",
       "       [0.4972501 , 0.0320516 , 0.04357956, 0.50443611],\n",
       "       [0.53369823, 0.38918119, 0.50443611, 0.87949022]])"
      ]
     },
     "execution_count": 7,
     "metadata": {},
     "output_type": "execute_result"
    }
   ],
   "source": [
    "matrix_generate(4, 4, type_ = \"symmetric\")"
   ]
  },
  {
   "cell_type": "code",
   "execution_count": 8,
   "metadata": {},
   "outputs": [
    {
     "data": {
      "text/plain": [
       "'Error with type symmetric and shape (4,1)'"
      ]
     },
     "execution_count": 8,
     "metadata": {},
     "output_type": "execute_result"
    }
   ],
   "source": [
    "matrix_generate(4, 1, type_ = \"symmetric\")"
   ]
  },
  {
   "cell_type": "code",
   "execution_count": null,
   "metadata": {},
   "outputs": [],
   "source": []
  },
  {
   "cell_type": "markdown",
   "metadata": {},
   "source": [
    "Теперь величину нормы матрицы возмущений в зависимости от параметра $\\varepsilon$ (оценить верхную границу).\n",
    "\n",
    "\n",
    "\n",
    "- __Норма Фробениуса__:  $\\quad$   $||M||_F=\\sqrt{\\sum_{i=1}^n \\sum_{j=1}^n\\left|a_{i j}\\right|^2} \\leq \\sqrt{nm} \\varepsilon$"
   ]
  },
  {
   "cell_type": "markdown",
   "metadata": {},
   "source": [
    "#### Задание 2. Вычисление матричных норм и числа обусловленности.\n",
    "\n",
    "Реализовать вычисление трех основных норм векторов (L1, L2 и максимальную) и подчиненных им матричных норм. Реализовать вычисление числа обусловленности.\n",
    "\n",
    "Примечание: для вычисления собственных значений можно использовать linalg.eigvals из модуля scipy."
   ]
  },
  {
   "cell_type": "code",
   "execution_count": 9,
   "metadata": {},
   "outputs": [
    {
     "name": "stdout",
     "output_type": "stream",
     "text": [
      "L1 norm: 6, L2 norm: 3.7416573867739413, Max norm: 3\n",
      "L1 matrix norm: 7, L2 matrix norm: (5.464985704219043+0j), Max matrix norm: 6\n",
      "Condition number: 14.430703308172536\n"
     ]
    }
   ],
   "source": [
    "import numpy as np\n",
    "from scipy.linalg import eigvals, norm\n",
    "\n",
    "def vector_norms(vector):\n",
    "    l1_norm = np.sum(np.abs(vector))\n",
    "    l2_norm = np.sqrt(np.sum(vector**2))\n",
    "    max_norm = np.max(np.abs(vector))\n",
    "    return l1_norm, l2_norm, max_norm\n",
    "\n",
    "def matrix_norms(matrix):\n",
    "    l1_matrix_norm = np.max(np.sum(np.abs(matrix), axis=1))\n",
    "    l2_matrix_norm = np.max(eigvals(matrix.T @ matrix)) ** 0.5\n",
    "    max_matrix_norm = np.max(np.sum(np.abs(matrix), axis=0))\n",
    "    return l1_matrix_norm, l2_matrix_norm, max_matrix_norm\n",
    "\n",
    "def condition_number(matrix):\n",
    "    eigenvalues = eigvals(matrix)\n",
    "    max_eigenvalue = np.max(np.abs(eigenvalues))\n",
    "    min_eigenvalue = np.min(np.abs(eigenvalues))\n",
    "    return max_eigenvalue / min_eigenvalue\n",
    "\n",
    "\n",
    "\n",
    "\n",
    "# Пример использования\n",
    "vector = np.array([1, 2, 3])\n",
    "matrix = np.array([[1, 2], [3, 4]])\n",
    "\n",
    "l1_norm, l2_norm, max_norm = vector_norms(vector)\n",
    "print(f\"L1 norm: {l1_norm}, L2 norm: {l2_norm}, Max norm: {max_norm}\")\n",
    "\n",
    "l1_matrix_norm, l2_matrix_norm, max_matrix_norm = matrix_norms(matrix)\n",
    "print(f\"L1 matrix norm: {l1_matrix_norm}, L2 matrix norm: {l2_matrix_norm}, Max matrix norm: {max_matrix_norm}\")\n",
    "\n",
    "cond_num = condition_number(matrix)\n",
    "print(f\"Condition number: {cond_num}\")"
   ]
  },
  {
   "cell_type": "markdown",
   "metadata": {},
   "source": [
    "### 3\n",
    "\n",
    "$||\\mathbf{x}||_1 = \\left( \\sum_{i=1}^{n} |x_i| \\right) >= 1/\\sqrt{n} \\left( \\sum_{i=1}^{n} x_i^2 \\right)^{1/2} = 1/\\sqrt{n} ||\\mathbf{x}||_2.$\n",
    "\n",
    "\n",
    "Отсюда:\n",
    "\n",
    "\n",
    "$||\\mathbf{x}||_1 >= 1/\\sqrt{n} ||\\mathbf{x}||_2,$\n",
    "\n",
    "\n",
    "то есть  C_2 = 1/$\\sqrt{n} .$"
   ]
  },
  {
   "cell_type": "markdown",
   "metadata": {},
   "source": [
    "Для $\\ C_1||\\mathbf{x}||_2 >= ||\\mathbf{x}||_1$\n",
    "\n",
    "подойдет $С_1 = 1$, тк квадрат с диагональю 2 можно вписать в круг с диаметром 2\n"
   ]
  },
  {
   "cell_type": "markdown",
   "metadata": {},
   "source": [
    "### 4\n",
    "\n",
    "**1. Неравенство** $||x||_2 \\leq \\sqrt{m} \\cdot ||x||_{\\infty}$\n",
    "\n",
    "***Доказательство:***\n",
    "\n",
    "Воспользуемся определением норм. Пусть $x = (x_1, x_2, \\ldots, x_m)$.\n",
    "\n",
    "- Норма $\\ell_2$:\n",
    "  $ ||x||_2 = \\sqrt{x_1^2 + x_2^2 + \\ldots + x_m^2} $\n",
    "\n",
    "- Норма $\\ell_{\\infty}$:\n",
    "  $ ||x||_{\\infty} = \\max_{1 \\leq i \\leq m} |x_i| $\n",
    "\n",
    "Пусть $M = ||x||_{\\infty}$. Тогда $|x_i| \\leq M \\quad \\forall i$, значит:\n",
    "$ x_1^2 + x_2^2 + \\ldots + x_m^2 \\leq m M^2 $\n",
    "\n",
    "Следовательно:\n",
    "$ ||x||_2 = \\sqrt{x_1^2 + x_2^2 + \\ldots + x_m^2} \\leq \\sqrt{m M^2} = \\sqrt{m} \\cdot ||x||_{\\infty} $\n",
    "\n",
    "Таким образом:\n",
    "$ ||x||_2 \\leq \\sqrt{m} \\cdot ||x||_{\\infty} $\n",
    "\n",
    "***Пример:***\n",
    "\n",
    "Рассмотрим вектор $x = (1, 1, \\ldots, 1)$ размерности $m$. В этом случае:\n",
    "$ ||x||_2 = \\sqrt{m} \\quad \\text{и} \\quad ||x||_{\\infty} = 1 $  \n",
    "Подставляя в неравенство, получаем:  \n",
    "$ ||x||_2 = \\sqrt{m} \\leq \\sqrt{m} \\cdot 1 $  \n",
    "что дает равенство $||x||_2 = \\sqrt{m} \\cdot ||x||_{\\infty}$."
   ]
  },
  {
   "cell_type": "markdown",
   "metadata": {},
   "source": [
    "**2. Неравенство** $||A||_{\\infty} \\leq \\sqrt{n} \\cdot ||A||_2$\n",
    "\n",
    "***Доказательство:***\n",
    "\n",
    "Из теории и матанализа нам известно, что:  \n",
    "$ ||A||_{\\infty} = \\sup_{x \\neq 0} \\dfrac{||Ax||_{\\infty}}{||x||_{\\infty}} \\leq \\sup_{x \\neq 0} \\dfrac{||Ax||_{\\infty}}{\\dfrac{1}{\\sqrt{n}}||x||_{2}} \\leq \\sup_{x \\neq 0} \\dfrac{\\sqrt{n} \\cdot ||Ax||_{2}}{\\sqrt{m} \\cdot ||x||_{2}} \\leq \\sqrt{n} \\cdot ||A||_{2}$\n",
    "\n",
    "Откуда:\n",
    "$ ||A||_{\\infty} \\leq \\sqrt{n} \\cdot ||A||_2 $  \n",
    "\n",
    "***Пример:***\n",
    "\n",
    "Рассмотрим матрицу $A = \\begin{pmatrix} 1 & 1 & 1 & \\dots & 1 \\\\ 0 & \\dots & \\dots & \\dots & 0 \\\\ \\vdots & \\vdots & \\vdots & \\vdots & \\vdots \\\\ 0 & \\dots & \\dots & \\dots & 0 \\end{pmatrix}$ размерности $m \\times n$. В этом случае:\n",
    "- Норма $||A||_{\\infty} = n$.  \n",
    "- Норма $||A||_2 = \\sqrt{n}$.\n",
    "\n",
    "Таким образом, получаем:\n",
    "$ ||A||_{\\infty} = n = \\sqrt{n} \\cdot \\sqrt{n} = \\sqrt{n} \\cdot ||A||_{2}$.  \n",
    "\n",
    "____________________"
   ]
  },
  {
   "cell_type": "markdown",
   "metadata": {},
   "source": [
    "### 5\n",
    "\n",
    "$||\\mathbf{A}||_{F}^{2}=\\operatorname{tr} (\\mathbf{A}^{+} \\mathbf{A}) = \\operatorname{tr} (\\mathbf{A} \\mathbf{A}^{+})$  \n",
    "\n",
    "$||\\mathbf{UA}||_{F}^{2}=\\operatorname{tr} (\\mathbf{A}^{+} \\mathbf{U}^{+} \\mathbf{U} \\mathbf{A} ) = \\operatorname{tr} (\\mathbf{A}^{+} \\mathbf{A}) = ||\\mathbf{A}||_{F}^{2}$  \n",
    "\n",
    "$||\\mathbf{AU}||_{F}^{2}=\\operatorname{tr} (\\mathbf{A} \\mathbf{U} \\mathbf{U}^{+} \\mathbf{A}^{+}) = \\operatorname{tr} (\\mathbf{A} \\mathbf{A}^{+}) = ||\\mathbf{A}||_{F}^{2}$  \n"
   ]
  },
  {
   "cell_type": "code",
   "execution_count": null,
   "metadata": {},
   "outputs": [],
   "source": []
  }
 ],
 "metadata": {
  "kernelspec": {
   "display_name": "Python 3 (ipykernel)",
   "language": "python",
   "name": "python3"
  },
  "language_info": {
   "codemirror_mode": {
    "name": "ipython",
    "version": 3
   },
   "file_extension": ".py",
   "mimetype": "text/x-python",
   "name": "python",
   "nbconvert_exporter": "python",
   "pygments_lexer": "ipython3",
   "version": "3.11.5"
  }
 },
 "nbformat": 4,
 "nbformat_minor": 2
}
